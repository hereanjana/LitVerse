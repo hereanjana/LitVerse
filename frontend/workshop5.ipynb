{
 "cells": [
  {
   "cell_type": "markdown",
   "metadata": {},
   "source": [
    "1) Weather Dataset"
   ]
  },
  {
   "cell_type": "code",
   "execution_count": null,
   "metadata": {
    "vscode": {
     "languageId": "plaintext"
    }
   },
   "outputs": [],
   "source": [
    "# Notebook Template for working with the Weather dataset\n",
    "# import all the libraries needed first\n",
    "import pymongo\n",
    "from pprint import pprint\n",
    "from bson.objectid import ObjectId\n",
    "import string\n",
    "import operator\n",
    "import re\n",
    "# Print out the version of pymongo\n",
    "print (pymongo.version)"
   ]
  },
  {
   "cell_type": "markdown",
   "metadata": {},
   "source": [
    "Connecting to db"
   ]
  },
  {
   "cell_type": "markdown",
   "metadata": {},
   "source": []
  }
 ],
 "metadata": {
  "language_info": {
   "name": "python"
  }
 },
 "nbformat": 4,
 "nbformat_minor": 2
}
